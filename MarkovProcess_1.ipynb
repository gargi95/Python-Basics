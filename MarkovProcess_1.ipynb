{
  "nbformat": 4,
  "nbformat_minor": 0,
  "metadata": {
    "colab": {
      "name": "Untitled10.ipynb",
      "version": "0.3.2",
      "provenance": [],
      "collapsed_sections": [],
      "include_colab_link": true
    },
    "kernelspec": {
      "name": "python3",
      "display_name": "Python 3"
    }
  },
  "cells": [
    {
      "cell_type": "markdown",
      "metadata": {
        "id": "view-in-github",
        "colab_type": "text"
      },
      "source": [
        "<a href=\"https://colab.research.google.com/github/gargi95/Python-Basics/blob/master/MarkovProcess_1.ipynb\" target=\"_parent\"><img src=\"https://colab.research.google.com/assets/colab-badge.svg\" alt=\"Open In Colab\"/></a>"
      ]
    },
    {
      "cell_type": "code",
      "metadata": {
        "id": "siKzwm4zpLhb",
        "colab_type": "code",
        "colab": {
          "base_uri": "https://localhost:8080/",
          "height": 353
        },
        "outputId": "7199ce14-d6bd-4f69-f3d3-c5744ab8f891"
      },
      "source": [
        "import numpy as np\n",
        "import networkx as nx\n",
        "import matplotlib.pyplot as plt\n",
        "\n",
        "G=nx.Graph()\n",
        "\n",
        "i=1\n",
        "G.add_node(i,pos=(i,i))\n",
        "G.add_node(2,pos=(2,2))\n",
        "\n",
        "G.add_edge(1,1,weight=0.85)\n",
        "G.add_edge(1,2,weight=0.15)\n",
        "G.add_edge(2,1,weight=0.1)\n",
        "G.add_edge(2,2,weight=0.9)\n",
        "pos=nx.get_node_attributes(G,'pos')\n",
        "nx.draw(G,pos)\n",
        "labels = nx.get_edge_attributes(G,'weight')\n",
        "nx.draw_networkx_edge_labels(G,pos,edge_labels=labels)\n",
        "\n",
        "plt.draw()\n",
        "plt.show()\n",
        "\n",
        "from numpy.linalg import matrix_power\n",
        "i = np.array([[0.85,0.15],[0.10,0.90]])\n",
        "s=matrix_power(i, 2)\n",
        "print(s)"
      ],
      "execution_count": 40,
      "outputs": [
        {
          "output_type": "display_data",
          "data": {
            "image/png": "[encoded data removed]",
            "text/plain": [
              "<Figure size 432x288 with 1 Axes>"
            ]
          },
          "metadata": {
            "tags": []
          }
        },
        {
          "output_type": "stream",
          "text": [
            "[[0.7375 0.2625]\n",
            " [0.175  0.825 ]]\n"
          ],
          "name": "stdout"
        }
      ]
    },
    {
      "cell_type": "code",
      "metadata": {
        "id": "JIomzN-9wvv7",
        "colab_type": "code",
        "colab": {}
      },
      "source": [
        ""
      ],
      "execution_count": 0,
      "outputs": []
    },
    {
      "cell_type": "code",
      "metadata": {
        "id": "k1BELX9VwwCu",
        "colab_type": "code",
        "colab": {}
      },
      "source": [
        ""
      ],
      "execution_count": 0,
      "outputs": []
    },
    {
      "cell_type": "code",
      "metadata": {
        "id": "NbU6lEtxvTIP",
        "colab_type": "code",
        "colab": {
          "base_uri": "https://localhost:8080/",
          "height": 319
        },
        "outputId": "b7d41158-3454-4f2e-f23b-1ae7a80a24f7"
      },
      "source": [
        "import networkx as nx\n",
        "import matplotlib.pyplot as plt\n",
        "\n",
        "G=nx.Graph()\n",
        "i=1\n",
        "G.add_node(i,pos=(i,i))\n",
        "G.add_node(2,pos=(2,2))\n",
        "G.add_node(3,pos=(1,0))\n",
        "G.add_edge(1,2,weight=0.5)\n",
        "G.add_edge(1,3,weight=9.8)\n",
        "pos=nx.get_node_attributes(G,'pos')\n",
        "nx.draw(G,pos)\n",
        "labels = nx.get_edge_attributes(G,'weight')\n",
        "nx.draw_networkx_edge_labels(G,pos,edge_labels=labels)\n",
        "plt.draw()"
      ],
      "execution_count": 35,
      "outputs": [
        {
          "output_type": "display_data",
          "data": {
            "image/png": "[encoded data removed]",
            "text/plain": [
              "<Figure size 432x288 with 1 Axes>"
            ]
          },
          "metadata": {
            "tags": []
          }
        }
      ]
    },
    {
      "cell_type": "code",
      "metadata": {
        "id": "VXu-Lkkfp82c",
        "colab_type": "code",
        "colab": {
          "base_uri": "https://localhost:8080/",
          "height": 51
        },
        "outputId": "970953eb-ccc1-4447-9534-a3b92a331e44"
      },
      "source": [
        "print(s[0])\n",
        "print(sum(s[0]))"
      ],
      "execution_count": 15,
      "outputs": [
        {
          "output_type": "stream",
          "text": [
            "[0.7375 0.2625]\n",
            "1.0\n"
          ],
          "name": "stdout"
        }
      ]
    }
  ]
}