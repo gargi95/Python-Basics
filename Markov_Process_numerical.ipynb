{
  "nbformat": 4,
  "nbformat_minor": 0,
  "metadata": {
    "colab": {
      "name": "Untitled10.ipynb",
      "version": "0.3.2",
      "provenance": [],
      "collapsed_sections": [],
      "include_colab_link": true
    },
    "kernelspec": {
      "name": "python3",
      "display_name": "Python 3"
    }
  },
  "cells": [
    {
      "cell_type": "markdown",
      "metadata": {
        "id": "view-in-github",
        "colab_type": "text"
      },
      "source": [
        "<a href=\"https://colab.research.google.com/github/gargi95/Python-Basics/blob/master/Markov_Process_numerical.ipynb\" target=\"_parent\"><img src=\"https://colab.research.google.com/assets/colab-badge.svg\" alt=\"Open In Colab\"/></a>"
      ]
    },
    {
      "cell_type": "code",
      "metadata": {
        "id": "siKzwm4zpLhb",
        "colab_type": "code",
        "colab": {}
      },
      "source": [
        "'''In analysing switching by Business Class customers between airlines the following data has been obtained by British Airways (BA):\n",
        "\n",
        "                                 Next flight by\n",
        "                                 BA      Competition     \n",
        "Last flight by   BA              0.85    0.15\n",
        "                 Competition     0.10    0.90\n",
        "For example if the last flight by a Business Class customer was by BA the probability that their next flight is by BA is 0.85. Business Class customers make 2 flights a year on average.\n",
        "\n",
        "Currently BA have 30% of the Business Class market. What would you forecast BA's share of the Business Class market to be after two years?'''"
      ],
      "execution_count": 0,
      "outputs": []
    },
    {
      "cell_type": "code",
      "metadata": {
        "id": "JIomzN-9wvv7",
        "colab_type": "code",
        "colab": {}
      },
      "source": [
        "#to find BA's share after 2 years we need to calculate the power of 2 of the transition matrix (if we solve it mathematically, this apporach will be used)\n",
        "#create a transition matrix using numpy from the given question_statement\n",
        "# I have used matrix_power of numpy to calculate power of 2 of the transition matrix created"
      ],
      "execution_count": 0,
      "outputs": []
    },
    {
      "cell_type": "code",
      "metadata": {
        "id": "k1BELX9VwwCu",
        "colab_type": "code",
        "colab": {
          "base_uri": "https://localhost:8080/",
          "height": 102
        },
        "outputId": "7d0dca47-bb90-4c97-e051-9ce3577ea048"
      },
      "source": [
        "import numpy as np\n",
        "\n",
        "from numpy.linalg import matrix_power\n",
        "s1 = np.array([0.30, 0.70]) #since current share of BA is 30% i.e. 0.30\n",
        "\n",
        "print(\"BA's current share\",s1)\n",
        "i = np.array([[0.85,0.15],[0.10,0.90]])\n",
        "y=matrix_power(i, 2)\n",
        "print(\"square term arises as Business Class customers make 2 flights a year on average\",y)\n",
        "s2=np.dot(s1,y)\n",
        "print(\"Hence after one year has elapsed the state of the system s2 i.e s2=s1.y\",s2)\n",
        "s3=np.dot(s2,y)\n",
        "print(\"After two years have elapsed the state of the system = s3 i.e. s3=s2.y\",s3)\n",
        "\n",
        "\n"
      ],
      "execution_count": 57,
      "outputs": [
        {
          "output_type": "stream",
          "text": [
            "BA's current share [0.3 0.7]\n",
            "square term arises as Business Class customers make 2 flights a year on average [[0.7375 0.2625]\n",
            " [0.175  0.825 ]]\n",
            "Hence after one year has elapsed the state of the system s2 i.e s2=s1.y [0.34375 0.65625]\n",
            "After two years have elapsed the state of the system = s3 i.e. s3=s2.y [0.36835937 0.63164063]\n"
          ],
          "name": "stdout"
        }
      ]
    },
    {
      "cell_type": "code",
      "metadata": {
        "id": "NbU6lEtxvTIP",
        "colab_type": "code",
        "colab": {}
      },
      "source": [
        ""
      ],
      "execution_count": 0,
      "outputs": []
    },
    {
      "cell_type": "code",
      "metadata": {
        "id": "VXu-Lkkfp82c",
        "colab_type": "code",
        "colab": {}
      },
      "source": [
        "#hence BA's current share is 36.83"
      ],
      "execution_count": 0,
      "outputs": []
    }
  ]
}