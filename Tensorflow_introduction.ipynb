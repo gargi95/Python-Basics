{
  "nbformat": 4,
  "nbformat_minor": 0,
  "metadata": {
    "colab": {
      "name": "Untitled13.ipynb",
      "version": "0.3.2",
      "provenance": [],
      "collapsed_sections": [],
      "include_colab_link": true
    },
    "kernelspec": {
      "name": "python3",
      "display_name": "Python 3"
    }
  },
  "cells": [
    {
      "cell_type": "markdown",
      "metadata": {
        "id": "view-in-github",
        "colab_type": "text"
      },
      "source": [
        "<a href=\"https://colab.research.google.com/github/gargi95/Python-Basics/blob/master/Tensorflow_introduction.ipynb\" target=\"_parent\"><img src=\"https://colab.research.google.com/assets/colab-badge.svg\" alt=\"Open In Colab\"/></a>"
      ]
    },
    {
      "cell_type": "code",
      "metadata": {
        "id": "DbmUfq-S_exp",
        "colab_type": "code",
        "colab": {}
      },
      "source": [
        "import tensorflow as tf\n"
      ],
      "execution_count": 0,
      "outputs": []
    },
    {
      "cell_type": "code",
      "metadata": {
        "id": "2KaRlzn7_mc5",
        "colab_type": "code",
        "colab": {
          "base_uri": "https://localhost:8080/",
          "height": 34
        },
        "outputId": "63a878e2-7f60-4d76-a4e2-1d7f8fb416d5"
      },
      "source": [
        "node_1=tf.constant(3.90,tf.float32)\n",
        "node_2=tf.constant(4.89)\n",
        "#print(node_1,node_2)#output are just abstract tensors, no actual calculations are running : only operations are created\n",
        "\n"
      ],
      "execution_count": 6,
      "outputs": [
        {
          "output_type": "stream",
          "text": [
            "Tensor(\"Const_6:0\", shape=(), dtype=float32) Tensor(\"Const_7:0\", shape=(), dtype=float32)\n"
          ],
          "name": "stdout"
        }
      ]
    },
    {
      "cell_type": "code",
      "metadata": {
        "id": "qW_eZMSoASe3",
        "colab_type": "code",
        "colab": {
          "base_uri": "https://localhost:8080/",
          "height": 51
        },
        "outputId": "5e0689cd-2626-472e-c127-3698570216b7"
      },
      "source": [
        "## To execute a graoh run it inside the session \n",
        "#session places graph opeartions on devices such as CPUs or GPUs\n",
        "sess=tf.Session()\n",
        "print(sess.run([node_1,node_2]))\n",
        "print(sess.run([node_1+node_2]))\n",
        "sess.close()  #methode 1 to launch nodes on graph "
      ],
      "execution_count": 9,
      "outputs": [
        {
          "output_type": "stream",
          "text": [
            "[3.9, 4.89]\n",
            "[8.79]\n"
          ],
          "name": "stdout"
        }
      ]
    },
    {
      "cell_type": "code",
      "metadata": {
        "id": "_MDcmytRBIiN",
        "colab_type": "code",
        "colab": {
          "base_uri": "https://localhost:8080/",
          "height": 34
        },
        "outputId": "6e989552-5f92-4412-d076-4e85bd03ad29"
      },
      "source": [
        "with tf.Session() as sess:\n",
        "  output=sess.run([node_1,node_2])\n",
        "  print(output) # for block of nodes as well as automatically closes the session \n",
        "  "
      ],
      "execution_count": 12,
      "outputs": [
        {
          "output_type": "stream",
          "text": [
            "[3.9, 4.89]\n"
          ],
          "name": "stdout"
        }
      ]
    },
    {
      "cell_type": "code",
      "metadata": {
        "id": "Uaq0aaj8B8F3",
        "colab_type": "code",
        "colab": {
          "base_uri": "https://localhost:8080/",
          "height": 34
        },
        "outputId": "7c9035cb-1f16-48b7-9f21-cb1213aef35c"
      },
      "source": [
        "#build a graph\n",
        "a=tf.constant(5.0)\n",
        "b=tf.constant(2.0)\n",
        "c=a*b\n",
        "sess=tf.Session()\n",
        "File_Writer=tf.summary.FileWriter('E:\\M.Tech_projects\\graph',sess.graph)\n",
        "\n",
        "print(sess.run([c])) # passing tensor values (nodes values) to the operations \n",
        "sess.close()"
      ],
      "execution_count": 14,
      "outputs": [
        {
          "output_type": "stream",
          "text": [
            "[10.0]\n"
          ],
          "name": "stdout"
        }
      ]
    },
    {
      "cell_type": "code",
      "metadata": {
        "id": "PaJhgOHAVqam",
        "colab_type": "code",
        "colab": {}
      },
      "source": [
        ""
      ],
      "execution_count": 0,
      "outputs": []
    },
    {
      "cell_type": "code",
      "metadata": {
        "id": "ckXouMIQCiwx",
        "colab_type": "code",
        "colab": {}
      },
      "source": [
        "# To visulaize tensorflow graphs we have TensorBoard"
      ],
      "execution_count": 0,
      "outputs": []
    },
    {
      "cell_type": "code",
      "metadata": {
        "id": "S_46yxCMBBcE",
        "colab_type": "code",
        "colab": {}
      },
      "source": [
        ""
      ],
      "execution_count": 0,
      "outputs": []
    }
  ]
}